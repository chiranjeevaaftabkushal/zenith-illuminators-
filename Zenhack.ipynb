{
  "nbformat": 4,
  "nbformat_minor": 0,
  "metadata": {
    "colab": {
      "provenance": []
    },
    "kernelspec": {
      "name": "python3",
      "display_name": "Python 3"
    },
    "language_info": {
      "name": "python"
    }
  },
  "cells": [
    {
      "cell_type": "markdown",
      "source": [
        "# Datasets\n",
        "\n",
        "## Source:-\n",
        "Kaggle: https://www.kaggle.com/datasets/berkeleyearth/climate-change-earth-surface-temperature-data"
      ],
      "metadata": {
        "id": "PCfpXP0AuAjF"
      }
    },
    {
      "cell_type": "code",
      "execution_count": null,
      "metadata": {
        "id": "00KPe4qrtlnD"
      },
      "outputs": [],
      "source": [
        "from google.colab import drive\n",
        "drive.mount('/content/drive')"
      ]
    },
    {
      "cell_type": "code",
      "source": [
        "import pandas as pd\n",
        "import numpy as np"
      ],
      "metadata": {
        "id": "QwNCzRXDuh6A"
      },
      "execution_count": null,
      "outputs": []
    },
    {
      "cell_type": "code",
      "source": [
        "df = pd.read_csv(\"./drive/MyDrive/Data/archive/GlobalLandTemperaturesByCity.csv\")\n",
        "\n",
        "df.head()"
      ],
      "metadata": {
        "id": "460sc18MuliN"
      },
      "execution_count": null,
      "outputs": []
    },
    {
      "cell_type": "code",
      "source": [
        "df.columns"
      ],
      "metadata": {
        "id": "8Co5mrE6DxJM"
      },
      "execution_count": null,
      "outputs": []
    },
    {
      "cell_type": "code",
      "source": [
        "# Cleaning the data\n",
        "\n",
        "df.dropna(how='any',subset='AverageTemperature', inplace=True)\n",
        "\n",
        "df = df[[\"dt\",\"AverageTemperature\",\"City\",\"Country\"]]\n",
        "\n",
        "df = df.query('dt >= \"1900-01-01\"')\n",
        "df['dt'] = pd.to_datetime(df['dt'])\n",
        "\n",
        "df.reset_index(inplace=True)\n",
        "\n",
        "df.head()"
      ],
      "metadata": {
        "id": "IjQiNGxhx6NN"
      },
      "execution_count": null,
      "outputs": []
    },
    {
      "cell_type": "code",
      "source": [
        "df.describe()"
      ],
      "metadata": {
        "id": "7jaZ46CDfn5n"
      },
      "execution_count": null,
      "outputs": []
    },
    {
      "cell_type": "code",
      "source": [
        "df.info()"
      ],
      "metadata": {
        "id": "aPahXAqYigPz"
      },
      "execution_count": null,
      "outputs": []
    },
    {
      "cell_type": "code",
      "source": [
        "from sklearn.model_selection import train_test_split\n",
        "from sklearn.linear_model import LinearRegression"
      ],
      "metadata": {
        "id": "b2Y3blczAtFA"
      },
      "execution_count": null,
      "outputs": []
    },
    {
      "cell_type": "code",
      "source": [
        "tmp = df\n",
        "tmp['Date'] = pd.to_datetime(df['dt'])\n",
        "tmp['Year'] = tmp['dt'].dt.year\n",
        "tmp.head()"
      ],
      "metadata": {
        "id": "L3ppRjOUBqOK"
      },
      "execution_count": null,
      "outputs": []
    },
    {
      "cell_type": "code",
      "source": [
        "X = tmp[[\"Year\"]]\n",
        "y = df[\"AverageTemperature\"]\n",
        "\n",
        "X_train, X_test, y_train, y_test = train_test_split(X, y, test_size=0.2, random_state=117)"
      ],
      "metadata": {
        "id": "QGcSbu_mAs52"
      },
      "execution_count": null,
      "outputs": []
    },
    {
      "cell_type": "code",
      "source": [
        "model = LinearRegression()\n",
        "model.fit(X_train, y_train)"
      ],
      "metadata": {
        "id": "Jmk54CUTAsuX"
      },
      "execution_count": null,
      "outputs": []
    },
    {
      "cell_type": "code",
      "source": [
        "last_year = tmp['Year'].max()\n",
        "years_ahead = np.linspace(1900, 2040, 140)\n",
        "future_years = pd.DataFrame({'Year': years_ahead})\n",
        "avg_temperature_by_year = tmp.groupby(\"Year\")[\"AverageTemperature\"].mean().apply(lambda x: x+3)\n",
        "\n",
        "unique_years = pd.DataFrame({\"Year\": avg_temperature_by_year.index})\n",
        "result = pd.merge(unique_years, avg_temperature_by_year, on=\"Year\", how=\"left\")"
      ],
      "metadata": {
        "id": "-JRwObL5E8e8"
      },
      "execution_count": null,
      "outputs": []
    },
    {
      "cell_type": "code",
      "source": [
        "print(avg_temperature_by_year)"
      ],
      "metadata": {
        "id": "hUdIcM8-JKqO"
      },
      "execution_count": null,
      "outputs": []
    },
    {
      "cell_type": "code",
      "source": [
        "%cd /content/drive/MyDrive/front-end/Zenith_Hack\n",
        "!python app.py\n",
        "\n"
      ],
      "metadata": {
        "colab": {
          "base_uri": "https://localhost:8080/"
        },
        "id": "K0VnXrIao3hV",
        "outputId": "056cda6c-9e07-4631-a675-2c8f1c166618"
      },
      "execution_count": null,
      "outputs": [
        {
          "metadata": {
            "tags": null
          },
          "name": "stdout",
          "output_type": "stream",
          "text": [
            "/content/drive/MyDrive/front-end/Zenith_Hack\n",
            " * Serving Flask app 'app'\n",
            " * Debug mode: on\n",
            "\u001b[31m\u001b[1mWARNING: This is a development server. Do not use it in a production deployment. Use a production WSGI server instead.\u001b[0m\n",
            " * Running on http://127.0.0.1:5000\n",
            "\u001b[33mPress CTRL+C to quit\u001b[0m\n",
            " * Restarting with stat\n",
            " * Debugger is active!\n",
            " * Debugger PIN: 883-292-532\n"
          ]
        }
      ]
    },
    {
      "cell_type": "code",
      "source": [
        "!pip install pyngrok\n",
        "\n",
        "!ngrok authtoken 2gK1IjPyaW5ySNYePwgYO14ZQ0q_8a4c7e95gPzzkYMF31dLx\n",
        "\n"
      ],
      "metadata": {
        "id": "yfmfYTXUqRVS"
      },
      "execution_count": null,
      "outputs": []
    },
    {
      "cell_type": "code",
      "source": [
        "!ngrok update\n",
        "\n"
      ],
      "metadata": {
        "id": "fFz5xMR4tpIQ"
      },
      "execution_count": null,
      "outputs": []
    },
    {
      "cell_type": "code",
      "source": [
        "from flask import Flask, render_template, request\n",
        "from pyngrok import ngrok\n",
        "\n",
        "app = Flask(__name__)\n",
        "\n",
        "@app.route('/', methods=[\"POST\", \"GET\"])\n",
        "def home():\n",
        "    selected_city = None\n",
        "    selected_time = None\n",
        "    if request.method == \"POST\":\n",
        "        selected_city = request.form.get('city')\n",
        "        print(selected_city)\n",
        "        selected_time = request.form.get('time')\n",
        "        print(selected_time)\n",
        "    return render_template('home.html', selected_city=selected_city)\n",
        "\n",
        "if __name__ == '__main__':\n",
        "    # Start ngrok tunnel\n",
        "\n",
        "    print(\" * Running on\", public_url)\n",
        "\n",
        "    # Start Flask app\n",
        "    app.run(port=5000)\n",
        "\n"
      ],
      "metadata": {
        "id": "9zH8wris1Nb9"
      },
      "execution_count": null,
      "outputs": []
    },
    {
      "cell_type": "code",
      "source": [
        "predicted_temperatures = model.predict(future_years)"
      ],
      "metadata": {
        "id": "JhAgnaWuGqtX"
      },
      "execution_count": null,
      "outputs": []
    },
    {
      "cell_type": "code",
      "source": [
        "year = 2030\n",
        "year_list = [x for x in range(2024, year+1)]\n",
        "print(year_list)"
      ],
      "metadata": {
        "id": "bqNNWu8w0Yc_"
      },
      "execution_count": null,
      "outputs": []
    },
    {
      "cell_type": "code",
      "source": [
        "pred_temp=model.predict(year_list)"
      ],
      "metadata": {
        "id": "KSPFxcK_07Cc"
      },
      "execution_count": null,
      "outputs": []
    },
    {
      "cell_type": "markdown",
      "source": [
        "predicted temperatures compare.\n"
      ],
      "metadata": {
        "id": "0Z5DES0GhJ6U"
      }
    },
    {
      "cell_type": "code",
      "source": [
        "plt.figure(figsize=(15, 6))\n",
        "print(avg_temperature_by_year.count)\n",
        "plt.scatter(result.Year, avg_temperature_by_year, label='Observed Data')\n",
        "plt.plot(future_years['Year'], predicted_temperatures, 'r--', label='Predicted Temperatures')\n",
        "plt.xlabel('Year')\n",
        "plt.ylabel('Average Temperature')\n",
        "plt.title('Simulation of Global Warming Effects')\n",
        "plt.legend()\n",
        "plt.grid(True)\n",
        "plt.show()"
      ],
      "metadata": {
        "id": "7MLFVCAgGh3i"
      },
      "execution_count": null,
      "outputs": []
    },
    {
      "cell_type": "code",
      "source": [
        "from sklearn.metrics import mean_squared_error, r2_score, mean_absolute_error"
      ],
      "metadata": {
        "id": "mw__jtcQTJJx"
      },
      "execution_count": null,
      "outputs": []
    },
    {
      "cell_type": "markdown",
      "source": [
        "f1 score, confusion matrix, recall score, accuracy score.\n",
        "to add"
      ],
      "metadata": {
        "id": "ZXu3f3qig2Fl"
      }
    },
    {
      "cell_type": "code",
      "source": [],
      "metadata": {
        "id": "H3alpAmtg0-E"
      },
      "execution_count": null,
      "outputs": []
    },
    {
      "cell_type": "code",
      "source": [
        "y_pred = model.predict(X_test)\n",
        "\n",
        "mse = mean_squared_error(y_test, y_pred)\n",
        "rmse = np.sqrt(mse)\n",
        "mae = mean_absolute_error(y_test, y_pred)\n",
        "r2 = r2_score(y_test, y_pred)\n",
        "\n",
        "print(\"Mean Squared Error:\", mse)\n",
        "print(\"Root Mean Squared Error:\", rmse)\n",
        "print(\"Mean Absolute Error:\", mae)\n",
        "print(\"R-squared score:\", r2)"
      ],
      "metadata": {
        "id": "-8NHwACvTNjN"
      },
      "execution_count": null,
      "outputs": []
    },
    {
      "cell_type": "markdown",
      "source": [
        "## Working with geoTIFF files\n",
        "GHS-SMOD layers are GeoTIFF raster products that contain grid cells with integers,\n",
        "which represent the assigned settlement classification per grid cell.\n",
        "\n",
        "Datasets - https://sedac.ciesin.columbia.edu/data/set/ghsl-population-built-up-estimates-degree-urban-smod\n",
        "\n",
        "9 arc-second resolutions of the years 1975, 1990, 2000, 2013"
      ],
      "metadata": {
        "id": "3k1lZag3fEC3"
      }
    },
    {
      "cell_type": "code",
      "source": [
        "import matplotlib.pyplot as plt\n",
        "!pip install rasterio"
      ],
      "metadata": {
        "id": "RU2iVxolfIKd"
      },
      "execution_count": null,
      "outputs": []
    },
    {
      "cell_type": "code",
      "source": [
        "import rasterio\n",
        "\n",
        "# Define paths to GeoTIFF files\n",
        "file_paths = [\n",
        "    \"./drive/MyDrive/spatial_datasets/ghsl-smod-1975/datas/ghsl-population-built-up-estimates-degree-urban-smod_built-30ss-1975.tif\",\n",
        "    \"./drive/MyDrive/spatial_datasets/ghsl-smod-1990/datas/ghsl-population-built-up-estimates-degree-urban-smod_built-9ss-1990.tif\",\n",
        "    \"./drive/MyDrive/spatial_datasets/ghsl-smod-2000/datas/ghsl-population-built-up-estimates-degree-urban-smod_built-9ss-2000.tif\",\n",
        "    \"./drive/MyDrive/spatial_datasets/ghsl-smod-2015/datas/ghsl-population-built-up-estimates-degree-urban-smod_built-9ss-2014.tif\"\n",
        "]\n",
        "\n",
        "# Open GeoTIFF files using Rasterio\n",
        "tifs = [rasterio.open(path) for path in file_paths]\n",
        "\n",
        "# Process or analyze the data\n",
        "# For example, you can print the metadata of each dataset\n",
        "for tif in tifs:\n",
        "    print(\"Metadata for\", tif.name[53:])\n",
        "    for c in tif.meta:\n",
        "      print(f\"{c} : {tif.meta[c]}\")\n",
        "    print()\n"
      ],
      "metadata": {
        "id": "ZQgof5xhrK1X"
      },
      "execution_count": null,
      "outputs": []
    },
    {
      "cell_type": "code",
      "source": [],
      "metadata": {
        "id": "QPtKqez--jTv"
      },
      "execution_count": null,
      "outputs": []
    }
  ]
}